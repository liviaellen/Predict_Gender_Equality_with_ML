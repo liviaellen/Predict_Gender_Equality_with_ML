{
 "cells": [
  {
   "cell_type": "markdown",
   "metadata": {},
   "source": [
    "# Your first predictions - Predicting Salaries 📈"
   ]
  },
  {
   "cell_type": "markdown",
   "metadata": {},
   "source": [
    "--------------"
   ]
  },
  {
   "cell_type": "markdown",
   "metadata": {},
   "source": [
    "## But first - a tutorial on `Jupyter Notebook` and `Python` basics 🚴‍♀️"
   ]
  },
  {
   "cell_type": "markdown",
   "metadata": {},
   "source": [
    "### Jupyter Notebook 📝\n",
    "\n",
    "Notebook consists of two main parts.\n",
    "\n",
    "1. Text instructions like this one - these are made using a text formatting language called [Markdown](https://github.com/adam-p/markdown-here/wiki/Markdown-Cheatsheet)\n",
    "\n",
    "2. Code cells like the one below:"
   ]
  },
  {
   "cell_type": "code",
   "execution_count": null,
   "metadata": {},
   "outputs": [],
   "source": [
    "1 + 1 * 2"
   ]
  },
  {
   "cell_type": "markdown",
   "metadata": {},
   "source": [
    "1. To run a code cell, click into it with your mouse and press the `► Run` button in the navbar at the top of the notebook. \n",
    "2. You can also use the shortcut `Shift + Enter` to run a cell!\n",
    "3. A cell that has been run will get a `In [number]` next to it\n",
    "4. An output (returned value) of a cell will be displayed below with a `Out[number]` next to it\n",
    "5. If you want to add another code cell - look for the `➕` button in the navbar."
   ]
  },
  {
   "cell_type": "code",
   "execution_count": null,
   "metadata": {},
   "outputs": [],
   "source": [
    "# you will have cells like these for you to code in"
   ]
  },
  {
   "cell_type": "markdown",
   "metadata": {},
   "source": [
    "--------"
   ]
  },
  {
   "cell_type": "markdown",
   "metadata": {},
   "source": [
    "### 🐍Python basics"
   ]
  },
  {
   "cell_type": "markdown",
   "metadata": {},
   "source": [
    "[**Python**](https://docs.python.org/) has been around since late 1980s. In fact, Machine Learning concept has been around since 1950s! 😯\n",
    "\n",
    "But rapid advances in internet speed, data storage and the very active Python community has married the two things very well in the last 5 years."
   ]
  },
  {
   "cell_type": "markdown",
   "metadata": {},
   "source": [
    "In **Python** we have **built-in data types** to help us work with different kinds of data:"
   ]
  },
  {
   "cell_type": "markdown",
   "metadata": {},
   "source": [
    "**Strings** (`str` in Python) for **literal text, column or file names**. Made by putting quotes (`\"\"`) around the text."
   ]
  },
  {
   "cell_type": "code",
   "execution_count": null,
   "metadata": {},
   "outputs": [],
   "source": [
    "\"hello!\"\n",
    "\"ML like a pro\""
   ]
  },
  {
   "cell_type": "markdown",
   "metadata": {},
   "source": [
    "**Integers** (`int` in Python) for **whole numbers**"
   ]
  },
  {
   "cell_type": "code",
   "execution_count": null,
   "metadata": {},
   "outputs": [],
   "source": [
    "42\n",
    "-10"
   ]
  },
  {
   "cell_type": "markdown",
   "metadata": {},
   "source": [
    "**Floats** (`float` in Python) for **numbers with decimal points**. The decimal delimeter is always `.`"
   ]
  },
  {
   "cell_type": "code",
   "execution_count": null,
   "metadata": {},
   "outputs": [],
   "source": [
    "3.14"
   ]
  },
  {
   "cell_type": "markdown",
   "metadata": {},
   "source": [
    "These **numeric** types accept all standard math calculations:"
   ]
  },
  {
   "cell_type": "code",
   "execution_count": null,
   "metadata": {},
   "outputs": [],
   "source": [
    "9 / 3\n",
    "2 + 5\n",
    "2 > 1"
   ]
  },
  {
   "cell_type": "markdown",
   "metadata": {},
   "source": [
    "📦 We have **variables** to help store data:"
   ]
  },
  {
   "cell_type": "code",
   "execution_count": null,
   "metadata": {},
   "outputs": [],
   "source": [
    "name = \"Alan Turing\"\n",
    "age = 42\n",
    "new_employee_data = [0, 30, 3, 7.1, 12]"
   ]
  },
  {
   "cell_type": "markdown",
   "metadata": {},
   "source": [
    "...and **re-use** it later!:"
   ]
  },
  {
   "cell_type": "code",
   "execution_count": null,
   "metadata": {},
   "outputs": [],
   "source": [
    "\"Hi, my name is \" + name"
   ]
  },
  {
   "cell_type": "code",
   "execution_count": null,
   "metadata": {},
   "outputs": [],
   "source": [
    "# getting one year older :(\n",
    "age = age + 1\n",
    "age"
   ]
  },
  {
   "cell_type": "markdown",
   "metadata": {},
   "source": [
    "💥And we have **methods** to perform actions on data:"
   ]
  },
  {
   "cell_type": "code",
   "execution_count": null,
   "metadata": {},
   "outputs": [],
   "source": [
    "name.upper()"
   ]
  },
  {
   "cell_type": "code",
   "execution_count": null,
   "metadata": {},
   "outputs": [],
   "source": [
    "number_of_n = name.count('n') # creating a new variable as a result of the method call\n",
    "number_of_n"
   ]
  },
  {
   "cell_type": "markdown",
   "metadata": {},
   "source": [
    "### 1. Your turn! 🚀\n",
    "Practice using some of the basic types we just covered. Here are some ideas:\n",
    "\n",
    "* Create two strings and add them together with a `+` sign\n",
    "* Create a variable with your age in years, then count your age in hours (roughly)\n",
    "* Check if your birth month number is higher than (`>`) than your birth day number\n",
    "* Create a variable with your full name, then tell yourself that you rock in all caps! 💪 (ie. `\"YOU ROCK ALAN TURING!\"`)"
   ]
  },
  {
   "cell_type": "code",
   "execution_count": null,
   "metadata": {},
   "outputs": [],
   "source": [
    "# your code here"
   ]
  },
  {
   "cell_type": "markdown",
   "metadata": {},
   "source": [
    "Don't worry if some things feel unnatural at first - you are learning a new language in just 20 minutes! 💪"
   ]
  },
  {
   "cell_type": "markdown",
   "metadata": {},
   "source": [
    "--------------"
   ]
  },
  {
   "cell_type": "markdown",
   "metadata": {},
   "source": [
    "# Let's get back into Data Science 🤖"
   ]
  },
  {
   "cell_type": "markdown",
   "metadata": {},
   "source": [
    "1. Run below cell to `import` some Python libraries - these will be our tools for working with data 📊"
   ]
  },
  {
   "cell_type": "code",
   "execution_count": 1,
   "metadata": {},
   "outputs": [],
   "source": [
    "import pandas as pd\n",
    "import numpy as np\n",
    "import seaborn as sns"
   ]
  },
  {
   "cell_type": "markdown",
   "metadata": {},
   "source": [
    "2. Run below cell to read the `CSV` file into a `DataFrame` - a format that is great for data analysis inside Python! \n",
    "\n",
    "*Note: the datasets is cleaned and federated for learning purposes*"
   ]
  },
  {
   "cell_type": "code",
   "execution_count": null,
   "metadata": {},
   "outputs": [],
   "source": [
    "salaries = pd.read_csv('clean_data/salaries.csv')\n",
    "salaries"
   ]
  },
  {
   "cell_type": "markdown",
   "metadata": {},
   "source": [
    "--------------"
   ]
  },
  {
   "cell_type": "markdown",
   "metadata": {},
   "source": [
    "## We can get a lot of insight without ML! 🤔"
   ]
  },
  {
   "cell_type": "markdown",
   "metadata": {},
   "source": [
    "### 2. Your turn! 🚀\n",
    "\n",
    "Let's start by **understanding the data we have** - how big is the dataset, what is the information (columns) we have and so on:\n",
    "\n",
    "**💡 Tip:** remember to check the slides for the right methods ;)"
   ]
  },
  {
   "cell_type": "code",
   "execution_count": 12,
   "metadata": {},
   "outputs": [],
   "source": [
    "# your code here"
   ]
  },
  {
   "cell_type": "markdown",
   "metadata": {},
   "source": [
    "<details>\n",
    "    <summary>Reveal Solution 🙈</summary>\n",
    "\n",
    "<p> \n",
    "<pre>\n",
    "salaries.shape # to see how many rows, columns\n",
    "salaries.dtypes # to see available columns and their data type\n",
    "round(salaries.describe()) # to see a readable summary about the dataset, like averages, minimums and maximums\n",
    "</pre>\n",
    "</details>"
   ]
  },
  {
   "cell_type": "markdown",
   "metadata": {},
   "source": [
    "Now try to **separate only some columns** - say we only want to see departments, or departments and salaries:"
   ]
  },
  {
   "cell_type": "code",
   "execution_count": 24,
   "metadata": {},
   "outputs": [],
   "source": [
    "# your code here"
   ]
  },
  {
   "cell_type": "markdown",
   "metadata": {},
   "source": [
    "<details>\n",
    "    <summary>Reveal Solution 🙈</summary>\n",
    "\n",
    "<p> \n",
    "<pre>\n",
    "salaries[\"Department\"] # to see one column\n",
    "salaries[[\"Department\", \"Gross\"]] # double bracket if we want to see multiple columns\n",
    "</pre>\n",
    "</details>"
   ]
  },
  {
   "cell_type": "markdown",
   "metadata": {},
   "source": [
    "-------"
   ]
  },
  {
   "cell_type": "markdown",
   "metadata": {},
   "source": [
    "### 3. Your turn - Now let's do some **visualization** 📊. \n",
    "\n",
    "\n",
    "Let's follow some basic intuition - **does years of experience affect gross salary❓**\n",
    "\n",
    "Let's use a [Seaborn Scatterplot](https://seaborn.pydata.org/generated/seaborn.scatterplot.html) - a method inside the Seaborn library (which we imported above and shortened to `sns`) that gives us a graph with data points as dots with `x` and `y` values."
   ]
  },
  {
   "cell_type": "code",
   "execution_count": 56,
   "metadata": {},
   "outputs": [],
   "source": [
    "# your code here"
   ]
  },
  {
   "cell_type": "markdown",
   "metadata": {},
   "source": [
    "<details>\n",
    "    <summary>Reveal Solution 🙈</summary>\n",
    "\n",
    "<p> \n",
    "<pre>\n",
    "sns.scatterplot(data=salaries, x=\"Years_exp\", y=\"Gross\")\n",
    "</pre>\n",
    "</details>"
   ]
  },
  {
   "cell_type": "markdown",
   "metadata": {},
   "source": [
    "Remember one of the questions from the slides - **do women and men earn equally in this example❓**\n",
    "\n",
    "*Note: 'Male' is coded as 0, 'Female' - as 1*"
   ]
  },
  {
   "cell_type": "code",
   "execution_count": 16,
   "metadata": {},
   "outputs": [],
   "source": [
    "# your code here"
   ]
  },
  {
   "cell_type": "markdown",
   "metadata": {},
   "source": [
    "<details>\n",
    "    <summary>Reveal Solution 🙈</summary>\n",
    "\n",
    "<p> \n",
    "<pre>\n",
    "sns.scatterplot(data=salaries, x=\"Years_exp\", y=\"Gross\", hue=\"Gender\")\n",
    "</pre>\n",
    "</details>"
   ]
  },
  {
   "cell_type": "markdown",
   "metadata": {},
   "source": [
    "Let's also understand the **number of** some data points we have - how many women and men? How many in each department? Seaborn `countplot` is here to help with that.\n",
    "\n",
    "**💡 Tip:** you can always call methods `.dtypes` or `.columns` on your dataset to check what columns you have."
   ]
  },
  {
   "cell_type": "code",
   "execution_count": 20,
   "metadata": {},
   "outputs": [],
   "source": [
    "# your code here"
   ]
  },
  {
   "cell_type": "markdown",
   "metadata": {},
   "source": [
    "<details>\n",
    "    <summary>Reveal Solution 🙈</summary>\n",
    "\n",
    "<p> \n",
    "<pre>\n",
    "sns.countplot(data=salaries, x=\"Gender\") # to see how many of each gender we have in the dataset\n",
    "sns.countplot(data=salaries, x=\"Department\") # to see how many of each department we have\n",
    "</pre>\n",
    "</details>"
   ]
  },
  {
   "cell_type": "markdown",
   "metadata": {},
   "source": [
    "**Bonus question:** can you visualize **how many men and women there are per department**? 🤔 A `hue` might help..."
   ]
  },
  {
   "cell_type": "code",
   "execution_count": 21,
   "metadata": {},
   "outputs": [],
   "source": [
    "# your code here"
   ]
  },
  {
   "cell_type": "markdown",
   "metadata": {},
   "source": [
    "\n",
    "<details>\n",
    "    <summary>Reveal Solution 🙈</summary>\n",
    "\n",
    "<p> \n",
    "<pre>\n",
    "sns.countplot(data=salaries, x=\"Department\", hue=\"Gender\")\n",
    "</pre>\n",
    "</details>"
   ]
  },
  {
   "cell_type": "markdown",
   "metadata": {},
   "source": [
    "--------------"
   ]
  },
  {
   "cell_type": "markdown",
   "metadata": {},
   "source": [
    "#### 🥈*A good data expert knows all the most complex models.* \n",
    "### 🥇*A great data expert knows when results can be achieved without them.* "
   ]
  },
  {
   "cell_type": "markdown",
   "metadata": {},
   "source": [
    "--------------"
   ]
  },
  {
   "cell_type": "markdown",
   "metadata": {},
   "source": [
    "## Your first model - Linear Regression 📈"
   ]
  },
  {
   "cell_type": "markdown",
   "metadata": {},
   "source": [
    "**1.** First, let's create what will be our...\n",
    "  * Features and target\n",
    "  * Inputs and output\n",
    "  * X and Y"
   ]
  },
  {
   "cell_type": "code",
   "execution_count": 37,
   "metadata": {},
   "outputs": [],
   "source": [
    "# your code here"
   ]
  },
  {
   "cell_type": "markdown",
   "metadata": {},
   "source": [
    "\n",
    "<details>\n",
    "    <summary>Reveal Solution 🙈</summary>\n",
    "\n",
    "<p> \n",
    "<pre>\n",
    "features = salaries.drop([\"Gross\", \"Department\"], axis=\"columns\") # dropping the Department column because it's text\n",
    "target = salaries[\"Gross\"]\n",
    "</pre>\n",
    "</details>"
   ]
  },
  {
   "cell_type": "markdown",
   "metadata": {},
   "source": [
    "Feel free to check what is in your `features` and `target` below:"
   ]
  },
  {
   "cell_type": "code",
   "execution_count": null,
   "metadata": {},
   "outputs": [],
   "source": [
    "# your code here"
   ]
  },
  {
   "cell_type": "markdown",
   "metadata": {},
   "source": [
    "**2.** Time to **import** the Linear Regression model\n",
    "\n",
    "Python libraries like [Scikit-learn](https://scikit-learn.org/0.21/modules/classes.html) make it super easy for people getting into Data Science and ML to experiment.\n",
    "\n",
    "The code is already in the library, it's just about **calling the right methods!** 🛠"
   ]
  },
  {
   "cell_type": "code",
   "execution_count": 33,
   "metadata": {},
   "outputs": [],
   "source": [
    "# your code here"
   ]
  },
  {
   "cell_type": "markdown",
   "metadata": {},
   "source": [
    "\n",
    "<details>\n",
    "    <summary>Reveal Solution 🙈</summary>\n",
    "\n",
    "<p> \n",
    "<pre>\n",
    "from sklearn.linear_model import LinearRegression\n",
    "</pre>\n",
    "</details>"
   ]
  },
  {
   "cell_type": "markdown",
   "metadata": {},
   "source": [
    "Now to **initialize** the model"
   ]
  },
  {
   "cell_type": "code",
   "execution_count": 38,
   "metadata": {},
   "outputs": [],
   "source": [
    "# your code here"
   ]
  },
  {
   "cell_type": "markdown",
   "metadata": {},
   "source": [
    "\n",
    "<details>\n",
    "    <summary>Reveal Solution 🙈</summary>\n",
    "\n",
    "<p> \n",
    "<pre>\n",
    "model = LinearRegression()\n",
    "</pre>\n",
    "</details>"
   ]
  },
  {
   "cell_type": "markdown",
   "metadata": {},
   "source": [
    "**3.** We **train** the model. \n",
    "\n",
    "This is the process where the Linear Regression model looks for a line that best fits all the points in the dataset. This is the part where the computer is hard at work **learning**! 🤖"
   ]
  },
  {
   "cell_type": "code",
   "execution_count": 39,
   "metadata": {},
   "outputs": [],
   "source": [
    "# your code here"
   ]
  },
  {
   "cell_type": "markdown",
   "metadata": {},
   "source": [
    "\n",
    "<details>\n",
    "    <summary>Reveal Solution 🙈</summary>\n",
    "\n",
    "<p> \n",
    "<pre>\n",
    "model.fit(features, target)\n",
    "</pre>\n",
    "</details>"
   ]
  },
  {
   "cell_type": "markdown",
   "metadata": {},
   "source": [
    "**4.** We **score** the model\n",
    "\n",
    "Models can have different default scoring metrics. Linear Regression by default uses something called `R-squared` - a metric that shows how much of change in the target (Gross salary) can be explained by the changes in features (Age, Tenure, Gender etc.)"
   ]
  },
  {
   "cell_type": "code",
   "execution_count": 40,
   "metadata": {},
   "outputs": [],
   "source": [
    "# your code here"
   ]
  },
  {
   "cell_type": "markdown",
   "metadata": {},
   "source": [
    "\n",
    "<details>\n",
    "    <summary>Reveal Solution 🙈</summary>\n",
    "\n",
    "<p> \n",
    "<pre>\n",
    "model.score(features, target)\n",
    "</pre>\n",
    "</details>"
   ]
  },
  {
   "cell_type": "markdown",
   "metadata": {},
   "source": [
    "⚠️ **Careful not to confuse this with accuracy**. The above number is shows that **\"the inputs we have can help us predict around 40-45% of change in the salary\"** Which is decent considering we did this in 10 min! "
   ]
  },
  {
   "cell_type": "markdown",
   "metadata": {},
   "source": [
    "**5.** Let's **predict** the salary of a new hire 🔮\n",
    "\n",
    "*Note: here is a reminder of the columns in the table:* `['Gender', 'Age', 'Department_code', 'Years_exp', 'Tenure (months)']`"
   ]
  },
  {
   "cell_type": "code",
   "execution_count": 52,
   "metadata": {
    "scrolled": true
   },
   "outputs": [],
   "source": [
    "# here's a freebie! You can change the numbers below to change the info of your hire ;)\n",
    "hire = [[1, 29, 2, 5.2, 10]]\n",
    "\n",
    "# your code here"
   ]
  },
  {
   "cell_type": "markdown",
   "metadata": {},
   "source": [
    "\n",
    "<details>\n",
    "    <summary>Reveal Solution 🙈</summary>\n",
    "\n",
    "<p> \n",
    "<pre>\n",
    "model.predict(hire)\n",
    "</pre>\n",
    "</details>"
   ]
  },
  {
   "cell_type": "markdown",
   "metadata": {},
   "source": [
    "💡 A hint for **departments and their codes**:\n",
    "\n",
    "* Engineering - 0\n",
    "* Finance - 1\n",
    "* Media - 2\n",
    "* Operations - 3\n",
    "* Other - 4\n",
    "* Product - 5\n",
    "* Sales - 6\n",
    "* Tech - 7"
   ]
  },
  {
   "cell_type": "markdown",
   "metadata": {},
   "source": [
    "--------------"
   ]
  },
  {
   "cell_type": "markdown",
   "metadata": {},
   "source": [
    "**6.** **Explaining** the model\n",
    "\n",
    "There is a whole concept called [**Explainable AI (XAI)**](https://arxiv.org/abs/2006.00093) which is rising in popularity, as the widespread application of machine learning, particularly deep learning, has led to the development of highly accurate models but **models lack explainability and interpretability**.\n",
    "\n",
    "Luckily, Linear Regression is a [linear model](https://scikit-learn.org/stable/modules/linear_model.html), so it's explainability is quite high."
   ]
  },
  {
   "cell_type": "markdown",
   "metadata": {},
   "source": [
    "**6.1.** We can check the `coef_` or the **coefficients** of the model. These explain how much the target (Gross salary) changes with a change of `1` in each of the features (inputs), while holding other features constant."
   ]
  },
  {
   "cell_type": "code",
   "execution_count": 44,
   "metadata": {},
   "outputs": [],
   "source": [
    "# your code here"
   ]
  },
  {
   "cell_type": "markdown",
   "metadata": {},
   "source": [
    "\n",
    "<details>\n",
    "    <summary>Reveal Solution 🙈</summary>\n",
    "\n",
    "<p> \n",
    "<pre>\n",
    "model.coef_\n",
    "</pre>\n",
    "</details>"
   ]
  },
  {
   "cell_type": "markdown",
   "metadata": {},
   "source": [
    "🤔 We'd need to check the column order again, to know which number is which input. But, **we got you covered!** Run the cell below:"
   ]
  },
  {
   "cell_type": "code",
   "execution_count": null,
   "metadata": {},
   "outputs": [],
   "source": [
    "pd.concat([pd.DataFrame(features.columns),pd.DataFrame(np.transpose(model.coef_))], axis = 1)"
   ]
  },
  {
   "cell_type": "markdown",
   "metadata": {},
   "source": [
    "**6.2** The other thing we can check is the **intercept** of the model. This is the target (Gross salary) for when all inputs are 0. So imagine a newborn baby going to the office:"
   ]
  },
  {
   "cell_type": "code",
   "execution_count": 45,
   "metadata": {},
   "outputs": [],
   "source": [
    "# your code here"
   ]
  },
  {
   "cell_type": "markdown",
   "metadata": {},
   "source": [
    "\n",
    "<details>\n",
    "    <summary>Reveal Solution 🙈</summary>\n",
    "\n",
    "<p> \n",
    "<pre>\n",
    "model.intercept_\n",
    "</pre>\n",
    "</details>"
   ]
  },
  {
   "cell_type": "markdown",
   "metadata": {},
   "source": [
    "# Congratulations, you are a Linear Regression wizzard! 🧙‍♀️🧙‍♂️"
   ]
  },
  {
   "cell_type": "markdown",
   "metadata": {},
   "source": [
    "* You can try to play around with the `hire` variable to see the `.predict`ion results\n",
    "* You can also try to change the `features` variable - try removing more columns!\n",
    "* Looking for a bigger challenge? 🏋️‍♀️ Go to the **optional challenge `2. KNN - Customer Churn`** to explore another model type"
   ]
  }
 ],
 "metadata": {
  "kernelspec": {
   "display_name": "Python 3",
   "language": "python",
   "name": "python3"
  },
  "language_info": {
   "codemirror_mode": {
    "name": "ipython",
    "version": 3
   },
   "file_extension": ".py",
   "mimetype": "text/x-python",
   "name": "python",
   "nbconvert_exporter": "python",
   "pygments_lexer": "ipython3",
   "version": "3.7.0"
  }
 },
 "nbformat": 4,
 "nbformat_minor": 4
}
